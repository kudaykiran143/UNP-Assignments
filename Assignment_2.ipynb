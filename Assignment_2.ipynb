{
  "nbformat": 4,
  "nbformat_minor": 0,
  "metadata": {
    "colab": {
      "name": "Assignment-2.ipynb",
      "provenance": [],
      "include_colab_link": true
    },
    "kernelspec": {
      "name": "python3",
      "display_name": "Python 3"
    },
    "language_info": {
      "name": "python"
    }
  },
  "cells": [
    {
      "cell_type": "markdown",
      "metadata": {
        "id": "view-in-github",
        "colab_type": "text"
      },
      "source": [
        "<a href=\"https://colab.research.google.com/github/kudaykiran143/unp-Assignments/blob/main/Assignment_2.ipynb\" target=\"_parent\"><img src=\"https://colab.research.google.com/assets/colab-badge.svg\" alt=\"Open In Colab\"/></a>"
      ]
    },
    {
      "cell_type": "markdown",
      "source": [
        "This is your assignment on conditional statement and looping"
      ],
      "metadata": {
        "id": "RWGPvgMGhZo5"
      }
    },
    {
      "cell_type": "markdown",
      "source": [
        "**Problem-1**<br>\n",
        "Write a small program to check a number is divisible by 7 or not"
      ],
      "metadata": {
        "id": "IKuXztS-h62c"
      }
    },
    {
      "cell_type": "code",
      "source": [
        "# Your code goes here\n",
        "x=7\n",
        "if (x%7)==0:\n",
        "  print(\"yes divisibe by 7\")\n",
        "else:\n",
        "  print(\"not divisibe by 7\")\n"
      ],
      "metadata": {
        "id": "tmLkoOqthcy-",
        "colab": {
          "base_uri": "https://localhost:8080/"
        },
        "outputId": "ce67fa0c-bfd3-4daf-85f0-9cb1b2f18aeb"
      },
      "execution_count": 1,
      "outputs": [
        {
          "output_type": "stream",
          "name": "stdout",
          "text": [
            "yes divisibe by 7\n"
          ]
        }
      ]
    },
    {
      "cell_type": "markdown",
      "source": [
        ""
      ],
      "metadata": {
        "id": "YFthwE0_uyd1"
      }
    },
    {
      "cell_type": "markdown",
      "source": [
        "**Problem-2**<br>\n",
        "If a number is divisible by either 5 or 7, then we will call it a 'five-or-seven' number.<br> \n",
        "Write down a program to check if a number is 'five-or-seven' number or not."
      ],
      "metadata": {
        "id": "aKEBothyhZy8"
      }
    },
    {
      "cell_type": "code",
      "source": [
        "# Your code goes here\n",
        "x=21\n",
        "if x%5==0 and x%7==0:\n",
        "  print(\"divisibe by both 5 and 7\")\n",
        "elif x%5==0:\n",
        "  print(\"only diviisible by 5\")\n",
        "elif x%7==0:\n",
        "  print(\"only diviisible by 7\")\n",
        "else:\n",
        "  print(\"not divisible by any\")\n"
      ],
      "metadata": {
        "id": "Vv-j3UR9hd1-",
        "colab": {
          "base_uri": "https://localhost:8080/"
        },
        "outputId": "66513fc1-e5e5-472e-b085-5c594946fb0a"
      },
      "execution_count": 2,
      "outputs": [
        {
          "output_type": "stream",
          "name": "stdout",
          "text": [
            "only diviisible by 7\n"
          ]
        }
      ]
    },
    {
      "cell_type": "markdown",
      "source": [
        "**Problem-3**<br>\n",
        "Write a program to calculate the electricity bill (accept number of unit from user) according to the following criteria:<br>  \n",
        "Upto first 100 units Rs. 3 per unit.<br>\n",
        "Next 100 units Rs. 5 per unit.<br>\n",
        "Next 300 units Rs. 7 per unit.<br>\n",
        "Above that, for each unit exceeding 500, Rs. 10 per unit flat.<br>"
      ],
      "metadata": {
        "id": "Y9KxqFjxl2zt"
      }
    },
    {
      "cell_type": "code",
      "source": [
        "# Your code goes here\n",
        "x=1000\n",
        "if x>=0 and x<=100:\n",
        "  bill=x*3\n",
        "elif(x>100 and x<=200):\n",
        "  bill=x*5\n",
        "elif(x>200 and x<=500):\n",
        "  bill=x*7\n",
        "elif(x>500):\n",
        "  bill=x*10\n",
        "print(bill)\n"
      ],
      "metadata": {
        "id": "f_xfH-gSnRvI",
        "colab": {
          "base_uri": "https://localhost:8080/"
        },
        "outputId": "ddd951b5-708c-40af-ca76-68ca87b24766"
      },
      "execution_count": 3,
      "outputs": [
        {
          "output_type": "stream",
          "name": "stdout",
          "text": [
            "10000\n"
          ]
        }
      ]
    },
    {
      "cell_type": "markdown",
      "source": [
        "**Problem-4**<br>\n",
        "Find out sum of square of all the numbers upto 10, starting from 1"
      ],
      "metadata": {
        "id": "rLNw2lAwhZ8q"
      }
    },
    {
      "cell_type": "code",
      "source": [
        "# Your code goes here\n",
        "n=10\n",
        "sum=(n*(n+1)*((2*n)+1))/6\n",
        "print(sum)\n",
        "\n"
      ],
      "metadata": {
        "id": "8kgqZ_x-heuw",
        "colab": {
          "base_uri": "https://localhost:8080/"
        },
        "outputId": "84315f56-a20d-4ce5-9b7b-129437d8d054"
      },
      "execution_count": 4,
      "outputs": [
        {
          "output_type": "stream",
          "name": "stdout",
          "text": [
            "385.0\n"
          ]
        }
      ]
    },
    {
      "cell_type": "markdown",
      "source": [
        "**Problem-5**<br>\n",
        "Find out sum of square of all the even numbers upto 10, starting from 1"
      ],
      "metadata": {
        "id": "Y-MCE0x9haiN"
      }
    },
    {
      "cell_type": "code",
      "source": [
        "# Your code goes here\n",
        "sum= 0\n",
        "for num in range(0,10):\n",
        "  if num%2==0:\n",
        "    sum= sum+ (num ** 2)\n",
        "    \n",
        "print(sum)\n"
      ],
      "metadata": {
        "id": "Ki_-j4Dphfkd",
        "colab": {
          "base_uri": "https://localhost:8080/"
        },
        "outputId": "0b99c34f-4483-45a2-ca1e-f32f9e6e14c2"
      },
      "execution_count": 5,
      "outputs": [
        {
          "output_type": "stream",
          "name": "stdout",
          "text": [
            "120\n"
          ]
        }
      ]
    },
    {
      "cell_type": "markdown",
      "source": [
        "**Problem-6**<br>\n",
        "Check a number is prime or not"
      ],
      "metadata": {
        "id": "Sxp-egxiha1L"
      }
    },
    {
      "cell_type": "code",
      "source": [
        "# Your code goes here\n",
        "num = int(input ('enter natural number:'))\n",
        "if num>1:\n",
        "  for i in range(2,int(num/2)+1):\n",
        "    if(num%i) == 0:\n",
        "      print(\"not a prime number\")\n",
        "      break\n",
        "  else:\n",
        "    print(\"prime no\")\n"
      ],
      "metadata": {
        "id": "IoGNy2aMhgop",
        "colab": {
          "base_uri": "https://localhost:8080/"
        },
        "outputId": "7bfc0fce-9eb3-496c-89e9-ba146b9eebf8"
      },
      "execution_count": 7,
      "outputs": [
        {
          "output_type": "stream",
          "name": "stdout",
          "text": [
            "enter natural number:2\n",
            "prime no\n"
          ]
        }
      ]
    },
    {
      "cell_type": "markdown",
      "source": [
        "**Problem-7**<br>\n",
        "Print multiplication table upto 10 starting from 1"
      ],
      "metadata": {
        "id": "ntLKcA1hha44"
      }
    },
    {
      "cell_type": "code",
      "source": [
        "# Your code goes here\n",
        "def tables():\n",
        "    for x in range(1, 11):\n",
        "\n",
        "        print(\"\")\n",
        "\n",
        "        for y in range(1, 11):\n",
        "            print(x * y, end=\" \")\n",
        "\n",
        "\n",
        "tables()\n"
      ],
      "metadata": {
        "id": "U5LmrwFmhiE3",
        "colab": {
          "base_uri": "https://localhost:8080/"
        },
        "outputId": "e8757a20-b436-413d-da59-671788701dc9"
      },
      "execution_count": 8,
      "outputs": [
        {
          "output_type": "stream",
          "name": "stdout",
          "text": [
            "\n",
            "1 2 3 4 5 6 7 8 9 10 \n",
            "2 4 6 8 10 12 14 16 18 20 \n",
            "3 6 9 12 15 18 21 24 27 30 \n",
            "4 8 12 16 20 24 28 32 36 40 \n",
            "5 10 15 20 25 30 35 40 45 50 \n",
            "6 12 18 24 30 36 42 48 54 60 \n",
            "7 14 21 28 35 42 49 56 63 70 \n",
            "8 16 24 32 40 48 56 64 72 80 \n",
            "9 18 27 36 45 54 63 72 81 90 \n",
            "10 20 30 40 50 60 70 80 90 100 "
          ]
        }
      ]
    },
    {
      "cell_type": "markdown",
      "source": [
        "**Problem-8**<br>\n",
        "Print the series of first n fibonacci numbers"
      ],
      "metadata": {
        "id": "09Fwyn_ZhbDY"
      }
    },
    {
      "cell_type": "code",
      "source": [
        "# Your code goes here\n",
        "x=10\n",
        "n1, n2 = 0, 1\n",
        "count = 0\n",
        "\n",
        "\n",
        "\n",
        "\n",
        "print(\"Fibonacci sequence:\")\n",
        "while count < x:\n",
        "  print(n1)\n",
        "  nth = n1 + n2\n",
        "  n1 = n2\n",
        "  n2 = nth\n",
        "  count += 1\n"
      ],
      "metadata": {
        "id": "mo2otdwfhi3J",
        "colab": {
          "base_uri": "https://localhost:8080/"
        },
        "outputId": "2714a1b3-fd30-4cc0-a06c-65706c522123"
      },
      "execution_count": 9,
      "outputs": [
        {
          "output_type": "stream",
          "name": "stdout",
          "text": [
            "Fibonacci sequence:\n",
            "0\n",
            "1\n",
            "1\n",
            "2\n",
            "3\n",
            "5\n",
            "8\n",
            "13\n",
            "21\n",
            "34\n"
          ]
        }
      ]
    }
  ]
}